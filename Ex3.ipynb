{
 "cells": [
  {
   "cell_type": "code",
   "execution_count": 1,
   "id": "d6e8828f-c9aa-4437-a250-4143388a2568",
   "metadata": {
    "tags": [],
    "ExecuteTime": {
     "end_time": "2025-04-13T08:00:48.219269100Z",
     "start_time": "2025-04-13T08:00:47.452816600Z"
    }
   },
   "outputs": [],
   "source": [
    "import os\n",
    "import argparse\n",
    "import warnings\n",
    "warnings.filterwarnings(\"ignore\")\n",
    "from experiment.Ex3N import experiment3"
   ]
  },
  {
   "cell_type": "code",
   "execution_count": 2,
   "id": "4ff06951-ef05-4c18-b322-8f1bd1feaa6c",
   "metadata": {
    "tags": [],
    "ExecuteTime": {
     "end_time": "2025-04-13T08:00:48.227726500Z",
     "start_time": "2025-04-13T08:00:48.224511Z"
    }
   },
   "outputs": [],
   "source": [
    "\n",
    "def ex3(name, IP, EP, Exname, iter):\n",
    "    if name == 'ETTh1':\n",
    "        Horizon = [96,192,336,720]\n",
    "        SNumber = [12, 24, 48, 85]\n",
    "        \n",
    "        for i in range(len(Horizon)):\n",
    "            parser = argparse.ArgumentParser(description='FSTLmodel_')\n",
    "            # FT model\n",
    "            parser.add_argument('--Pre_len', type=int, default=Horizon[i], help='prediction sequence length')\n",
    "            parser.add_argument('--RDY', type=int, default=0, help='1 is regular data, and 0 is irregular data')\n",
    "            parser.add_argument('--SNumber', type=int, default=SNumber[i], help='the distance of peak points')\n",
    "            parser.add_argument('--Display', type=str, default=False, help='whether return the results')\n",
    "            parser.add_argument('--Treetype', type=str, default='BT', help='the structure of the FT')\n",
    "            parser.add_argument('--Noice', type=str, default=False, help='the used data')\n",
    "            parser.add_argument('--initialPosition', type=int, default=IP, help='the initial position')\n",
    "            parser.add_argument('--endPosition', type=int, default=EP, help='the end position')\n",
    "            parser.add_argument('--iter', type=int, default=iter, help='iter')\n",
    "\n",
    "            # data\n",
    "            parser.add_argument('--Data', type=str, default=name, help='the used data(ETTh1,ETTh2,ETTm1,Google)')\n",
    "            parser.add_argument('--Exname', type=str, default=Exname, help='the end position')\n",
    "\n",
    "            args = parser.parse_args(args=[])\n",
    "            ex3 = experiment3(args)\n",
    "            ex3.run()\n",
    "\n",
    "    if name == 'ETTh2':\n",
    "        Horizon = [96,192,336,720]\n",
    "        SNumber = [12, 24, 48, 85]\n",
    "\n",
    "        for i in range(len(Horizon)):\n",
    "            parser = argparse.ArgumentParser(description='FSTLmodel_')\n",
    "            # FT model\n",
    "            parser.add_argument('--Pre_len', type=int, default=Horizon[i], help='prediction sequence length')\n",
    "            parser.add_argument('--RDY', type=int, default=1, help='1 is regular data, and 0 is irregular data')\n",
    "            parser.add_argument('--SNumber', type=int, default=SNumber[i], help='the distance of peak points')\n",
    "            parser.add_argument('--Display', type=str, default=False, help='whether return the results')\n",
    "            parser.add_argument('--Treetype', type=str, default='BT', help='the structure of the FT')\n",
    "            parser.add_argument('--Noice', type=str, default=False, help='the used data')\n",
    "            parser.add_argument('--initialPosition', type=int, default=IP, help='the initial position')\n",
    "            parser.add_argument('--endPosition', type=int, default=EP, help='the end position')\n",
    "            parser.add_argument('--iter', type=int, default=iter, help='iter')\n",
    "\n",
    "            # data\n",
    "            parser.add_argument('--Data', type=str, default=name, help='the used data(ETTh1,ETTh2,ETTm1,Google)')\n",
    "            parser.add_argument('--Exname', type=str, default=Exname, help='the end position')\n",
    "            args = parser.parse_args(args=[])\n",
    "            ex3 = experiment3(args)\n",
    "            ex3.run()\n",
    "\n",
    "    if name == 'ETTm1':\n",
    "        Horizon = [96,192,336,720]\n",
    "        SNumber = [12, 24, 48, 85]\n",
    "\n",
    "        for i in range(len(Horizon)):\n",
    "            parser = argparse.ArgumentParser(description='FSTLmodel_')\n",
    "            # FT model\n",
    "            parser.add_argument('--Pre_len', type=int, default=Horizon[i], help='prediction sequence length')\n",
    "            parser.add_argument('--RDY', type=int, default=0, help='1 is regular data, and 0 is irregular data')\n",
    "            parser.add_argument('--SNumber', type=int, default=SNumber[i], help='the distance of peak points')\n",
    "            parser.add_argument('--Display', type=str, default=False, help='whether return the results')\n",
    "            parser.add_argument('--Treetype', type=str, default='BT', help='the structure of the FT')\n",
    "            parser.add_argument('--Noice', type=str, default=False, help='the used data')\n",
    "            parser.add_argument('--initialPosition', type=int, default=IP, help='the initial position')\n",
    "            parser.add_argument('--endPosition', type=int, default=EP, help='the end position')\n",
    "            parser.add_argument('--iter', type=int, default=iter, help='iter')\n",
    "\n",
    "            # data\n",
    "            parser.add_argument('--Data', type=str, default=name, help='the used data(ETTh1,ETTh2,ETTm1,Google)')\n",
    "            parser.add_argument('--Exname', type=str, default=Exname, help='the end position')\n",
    "            args = parser.parse_args(args=[])\n",
    "            ex3 = experiment3(args)\n",
    "            ex3.run()\n",
    "\n",
    "    if name == 'heat':\n",
    "\n",
    "        Horizon = [96,192,336,720]\n",
    "        SNumber = [12, 24, 48, 85]\n",
    "\n",
    "        for i in range(len(Horizon)):\n",
    "            parser = argparse.ArgumentParser(description='FSTLmodel_')\n",
    "            # FT model\n",
    "            parser.add_argument('--Pre_len', type=int, default=Horizon[i], help='prediction sequence length')\n",
    "            parser.add_argument('--RDY', type=int, default=0, help='1 is regular data, and 0 is irregular data')\n",
    "            parser.add_argument('--SNumber', type=int, default=SNumber[i], help='the distance of peak points')\n",
    "            parser.add_argument('--Display', type=str, default=False, help='whether return the results')\n",
    "            parser.add_argument('--Treetype', type=str, default='BT', help='the structure of the FT')\n",
    "            parser.add_argument('--Noice', type=str, default=False, help='the used data')\n",
    "            parser.add_argument('--initialPosition', type=int, default=IP, help='the initial position')\n",
    "            parser.add_argument('--endPosition', type=int, default=EP, help='the end position')\n",
    "            parser.add_argument('--iter', type=int, default=iter, help='iter')\n",
    "\n",
    "            # data\n",
    "            parser.add_argument('--Data', type=str, default=name, help='the used data(ETTh1,ETTh2,ETTm1,Google)')\n",
    "            parser.add_argument('--Exname', type=str, default=Exname, help='the end position')\n",
    "            args = parser.parse_args(args=[])\n",
    "            ex3 = experiment3(args)\n",
    "            ex3.run()"
   ]
  },
  {
   "cell_type": "code",
   "execution_count": null,
   "id": "51d76487-aa8c-4153-93dc-b545adea2533",
   "metadata": {
    "tags": []
   },
   "outputs": [],
   "source": [
    "ex3('ETTh1',IP=11520,EP=14400,Exname='ETTh1-convtional',iter=5)"
   ]
  }
 ],
 "metadata": {
  "kernelspec": {
   "display_name": "Python 3 (ipykernel)",
   "language": "python",
   "name": "python3"
  },
  "language_info": {
   "codemirror_mode": {
    "name": "ipython",
    "version": 3
   },
   "file_extension": ".py",
   "mimetype": "text/x-python",
   "name": "python",
   "nbconvert_exporter": "python",
   "pygments_lexer": "ipython3",
   "version": "3.11.5"
  }
 },
 "nbformat": 4,
 "nbformat_minor": 5
}
